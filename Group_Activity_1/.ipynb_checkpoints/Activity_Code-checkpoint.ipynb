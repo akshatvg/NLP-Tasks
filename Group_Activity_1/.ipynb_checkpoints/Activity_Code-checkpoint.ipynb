{
 "cells": [
  {
   "cell_type": "code",
   "execution_count": 2,
   "metadata": {},
   "outputs": [],
   "source": [
    "from sklearn.feature_extraction.text import TfidfVectorizer\n",
    "import numpy as np\n",
    "from gensim.models import KeyedVectors\n",
    "from Functions import calc_similarity\n",
    "import os"
   ]
  },
  {
   "cell_type": "code",
   "execution_count": null,
   "metadata": {},
   "outputs": [],
   "source": [
    "docs = os.listdir(\"./Articles\")\n",
    "corpus = []\n",
    "for i in range(len(docs)):\n",
    "    with open(\"./Articles/\" + docs[i]) as f:\n",
    "        corpus.append(f.read())        "
   ]
  },
  {
   "cell_type": "code",
   "execution_count": 11,
   "metadata": {},
   "outputs": [
    {
     "name": "stdout",
     "output_type": "stream",
     "text": [
      "[]\n"
     ]
    }
   ],
   "source": [
    "print(corpus)"
   ]
  },
  {
   "cell_type": "markdown",
   "metadata": {},
   "source": [
    "## 1. Using TF-IDF Vectorization"
   ]
  },
  {
   "cell_type": "code",
   "execution_count": null,
   "metadata": {},
   "outputs": [],
   "source": [
    "vect = TfidfVectorizer(stop_words=\"english\")\n",
    "tfidf = vect.fit_transform(corpus)\n",
    "print(len(vect.vocabulary_))\n",
    "print(vect.vocabulary_)"
   ]
  },
  {
   "cell_type": "code",
   "execution_count": null,
   "metadata": {},
   "outputs": [],
   "source": [
    "similarity = ((tfidf * tfidf.T).A)\n",
    "print(similarity)"
   ]
  },
  {
   "cell_type": "code",
   "execution_count": null,
   "metadata": {},
   "outputs": [],
   "source": [
    "np.fill_diagonal(similarity, np.nan)"
   ]
  },
  {
   "cell_type": "code",
   "execution_count": null,
   "metadata": {},
   "outputs": [],
   "source": [
    "# Taking \"Article 1\" as the reference/original document for similarity calculation:\n",
    "# Document which is least similar is:\n",
    "original_doc_idx = docs.index(\"article1.txt\")\n",
    "docs[np.nanargmin(similarity[original_doc_idx])]"
   ]
  },
  {
   "cell_type": "markdown",
   "metadata": {},
   "source": [
    "## 2. Using Glove Vectors"
   ]
  },
  {
   "cell_type": "code",
   "execution_count": null,
   "metadata": {},
   "outputs": [],
   "source": [
    "w2v_model = KeyedVectors.load_word2vec_format(\"./Datasets/word2vec_from_glove.6B.50d.txt\")\n",
    "print(type(w2v_model))"
   ]
  },
  {
   "cell_type": "code",
   "execution_count": null,
   "metadata": {},
   "outputs": [],
   "source": [
    "print(\"Number of words in the vocab: {}\".format(len(w2v_model.vocab)))\n",
    "print(\"Vector representation of word \\\"apple\\\"\")\n",
    "print(w2v_model[\"apple\"])\n",
    "print(\"Length of vector for representation of each word\")"
   ]
  },
  {
   "cell_type": "code",
   "execution_count": null,
   "metadata": {},
   "outputs": [],
   "source": [
    "sim = calc_similarity(w2v_model)"
   ]
  },
  {
   "cell_type": "code",
   "execution_count": null,
   "metadata": {},
   "outputs": [],
   "source": [
    "# Again taking \"Article 1\" as reference for comparing other documents\n",
    "source_doc = corpus[0]\n",
    "target_docs = corpus[1:]\n",
    "\n",
    "# Calculating similarity scores:\n",
    "similarity_scores = sim.calculate_similarity(source_doc, target_docs)"
   ]
  },
  {
   "cell_type": "code",
   "execution_count": null,
   "metadata": {},
   "outputs": [],
   "source": [
    "# Just some simple code for better representation\n",
    "for dic in similarity_scores:\n",
    "    dic[\"doc\"] = docs[corpus.index(dic[\"doc\"])]\n",
    "    print(dic)"
   ]
  },
  {
   "cell_type": "code",
   "execution_count": null,
   "metadata": {},
   "outputs": [],
   "source": []
  }
 ],
 "metadata": {
  "kernelspec": {
   "display_name": "Python 3",
   "language": "python",
   "name": "python3"
  },
  "language_info": {
   "codemirror_mode": {
    "name": "ipython",
    "version": 3
   },
   "file_extension": ".py",
   "mimetype": "text/x-python",
   "name": "python",
   "nbconvert_exporter": "python",
   "pygments_lexer": "ipython3",
   "version": "3.7.6"
  }
 },
 "nbformat": 4,
 "nbformat_minor": 4
}

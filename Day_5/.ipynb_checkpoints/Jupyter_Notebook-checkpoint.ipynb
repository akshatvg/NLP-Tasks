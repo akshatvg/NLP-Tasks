{
 "cells": [
  {
   "cell_type": "code",
   "execution_count": 1,
   "metadata": {},
   "outputs": [],
   "source": [
    "# Importing spacy\n",
    "import spacy\n",
    "sp = spacy.load('en_core_web_sm')"
   ]
  },
  {
   "cell_type": "code",
   "execution_count": 2,
   "metadata": {},
   "outputs": [
    {
     "name": "stdout",
     "output_type": "stream",
     "text": [
      "Ishaan PERSON\n",
      "Muskan PERSON\n"
     ]
    }
   ],
   "source": [
    "# Example 1\n",
    "example1 = \"Akshat is the bestest human in the whole wide world. He's cooler than Ishaan and Muskan too.\"\n",
    "doc = sp(example1)\n",
    "for ent in doc.ents:\n",
    "    print(ent.text,ent.label_)"
   ]
  },
  {
   "cell_type": "code",
   "execution_count": 3,
   "metadata": {},
   "outputs": [
    {
     "name": "stdout",
     "output_type": "stream",
     "text": [
      "Ganges ORG\n",
      "millions CARDINAL\n",
      "Ganga FAC\n",
      "Hinduism GPE\n"
     ]
    }
   ],
   "source": [
    "# Example 2\n",
    "example2 = \"The Ganges is a lifeline to millions who live along its course. It is a sacred river and worshipped as the goddess Ganga in Hinduism, I'm getting.\"\n",
    "doc = sp(example2)\n",
    "for ent in doc.ents:\n",
    "    print(ent.text,ent.label_)"
   ]
  },
  {
   "cell_type": "code",
   "execution_count": 4,
   "metadata": {},
   "outputs": [],
   "source": [
    "# ORG, PERSON, GPE, CARDINAL, LOC, DATE, TIME, QUANTITY, PRODUCT, WORK_OF_ART, FAC"
   ]
  },
  {
   "cell_type": "code",
   "execution_count": 5,
   "metadata": {},
   "outputs": [],
   "source": [
    "# Querying\n",
    "locs = [(\"Omnicom\",\"IN\",\"New York\"),(\"DDB Neendham\",\"IN\",\"New York\"),(\"akshatvg\",\"TN\",\"Chennai\"),(\"Qwerty\",\"TNS\",\"Atlanta\"),(\"ggwp\",\"TNS\",\"Atlanta\")]"
   ]
  },
  {
   "cell_type": "code",
   "execution_count": 6,
   "metadata": {},
   "outputs": [
    {
     "name": "stdout",
     "output_type": "stream",
     "text": [
      "['Qwerty', 'ggwp']\n"
     ]
    }
   ],
   "source": [
    "query = [e1 for (e1,rel,e2) in locs if e2==\"Atlanta\"]\n",
    "print(query)"
   ]
  },
  {
   "cell_type": "code",
   "execution_count": 7,
   "metadata": {},
   "outputs": [
    {
     "name": "stdout",
     "output_type": "stream",
     "text": [
      "['akshatvg']\n"
     ]
    }
   ],
   "source": [
    "query2 = [e1 for (e1,rel,e2) in locs if e2==\"Chennai\"]\n",
    "print(query2)"
   ]
  },
  {
   "cell_type": "code",
   "execution_count": null,
   "metadata": {},
   "outputs": [],
   "source": []
  }
 ],
 "metadata": {
  "kernelspec": {
   "display_name": "Python 3",
   "language": "python",
   "name": "python3"
  },
  "language_info": {
   "codemirror_mode": {
    "name": "ipython",
    "version": 3
   },
   "file_extension": ".py",
   "mimetype": "text/x-python",
   "name": "python",
   "nbconvert_exporter": "python",
   "pygments_lexer": "ipython3",
   "version": "3.7.6"
  }
 },
 "nbformat": 4,
 "nbformat_minor": 4
}
